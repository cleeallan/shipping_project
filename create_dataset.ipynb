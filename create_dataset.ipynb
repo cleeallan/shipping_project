{
 "cells": [
  {
   "cell_type": "markdown",
   "metadata": {},
   "source": [
    "# Create unbalanced, randomized dataset for shipping experiment."
   ]
  },
  {
   "cell_type": "markdown",
   "metadata": {},
   "source": [
    "### by C. Lee Allan   Created: 9/11/2020"
   ]
  },
  {
   "cell_type": "markdown",
   "metadata": {},
   "source": [
    "### Project Description\n",
    "\n",
    "Sometimes you need to create a customized dataset that you can use to train and test an algorith, to build exploritory data analysis processes, etc. Although there are other tools to create datasets, Faker for example, I needed to create domain specific data sets, so I built this example and want to share it with you. Please copy it, modify ot and use it for your on analytics work.\n",
    "This script was developed using Jupyter Notebook & Python for Windows 10. "
   ]
  },
  {
   "cell_type": "code",
   "execution_count": 1,
   "metadata": {},
   "outputs": [],
   "source": [
    "# imports\n",
    "import pandas as pd\n",
    "import numpy as np"
   ]
  },
  {
   "cell_type": "code",
   "execution_count": 9,
   "metadata": {},
   "outputs": [
    {
     "data": {
      "text/html": [
       "<div>\n",
       "<style scoped>\n",
       "    .dataframe tbody tr th:only-of-type {\n",
       "        vertical-align: middle;\n",
       "    }\n",
       "\n",
       "    .dataframe tbody tr th {\n",
       "        vertical-align: top;\n",
       "    }\n",
       "\n",
       "    .dataframe thead th {\n",
       "        text-align: right;\n",
       "    }\n",
       "</style>\n",
       "<table border=\"1\" class=\"dataframe\">\n",
       "  <thead>\n",
       "    <tr style=\"text-align: right;\">\n",
       "      <th></th>\n",
       "      <th>origin</th>\n",
       "      <th>destin</th>\n",
       "      <th>mode</th>\n",
       "      <th>qty</th>\n",
       "      <th>value</th>\n",
       "      <th>importer_id</th>\n",
       "      <th>exporter_id</th>\n",
       "      <th>inspected</th>\n",
       "    </tr>\n",
       "  </thead>\n",
       "  <tbody>\n",
       "    <tr>\n",
       "      <th>0</th>\n",
       "      <td>Nicaragua</td>\n",
       "      <td>Malaysia</td>\n",
       "      <td>Air</td>\n",
       "      <td>120</td>\n",
       "      <td>4200</td>\n",
       "      <td>1000</td>\n",
       "      <td>2003</td>\n",
       "      <td>0</td>\n",
       "    </tr>\n",
       "    <tr>\n",
       "      <th>1</th>\n",
       "      <td>Ecuador</td>\n",
       "      <td>Belgium</td>\n",
       "      <td>Sea</td>\n",
       "      <td>120</td>\n",
       "      <td>4893</td>\n",
       "      <td>1004</td>\n",
       "      <td>2000</td>\n",
       "      <td>0</td>\n",
       "    </tr>\n",
       "    <tr>\n",
       "      <th>2</th>\n",
       "      <td>Cuba</td>\n",
       "      <td>Malaysia</td>\n",
       "      <td>Air</td>\n",
       "      <td>135</td>\n",
       "      <td>4013</td>\n",
       "      <td>1004</td>\n",
       "      <td>2007</td>\n",
       "      <td>1</td>\n",
       "    </tr>\n",
       "    <tr>\n",
       "      <th>3</th>\n",
       "      <td>Dominican Republic</td>\n",
       "      <td>Malaysia</td>\n",
       "      <td>Air</td>\n",
       "      <td>147</td>\n",
       "      <td>4209</td>\n",
       "      <td>1004</td>\n",
       "      <td>2006</td>\n",
       "      <td>0</td>\n",
       "    </tr>\n",
       "    <tr>\n",
       "      <th>4</th>\n",
       "      <td>Cuba</td>\n",
       "      <td>USA</td>\n",
       "      <td>Air</td>\n",
       "      <td>113</td>\n",
       "      <td>4123</td>\n",
       "      <td>1001</td>\n",
       "      <td>2006</td>\n",
       "      <td>0</td>\n",
       "    </tr>\n",
       "  </tbody>\n",
       "</table>\n",
       "</div>"
      ],
      "text/plain": [
       "               origin    destin mode  qty  value  importer_id  exporter_id  \\\n",
       "0           Nicaragua  Malaysia  Air  120   4200         1000         2003   \n",
       "1             Ecuador   Belgium  Sea  120   4893         1004         2000   \n",
       "2                Cuba  Malaysia  Air  135   4013         1004         2007   \n",
       "3  Dominican Republic  Malaysia  Air  147   4209         1004         2006   \n",
       "4                Cuba       USA  Air  113   4123         1001         2006   \n",
       "\n",
       "   inspected  \n",
       "0          0  \n",
       "1          0  \n",
       "2          1  \n",
       "3          0  \n",
       "4          0  "
      ]
     },
     "execution_count": 9,
     "metadata": {},
     "output_type": "execute_result"
    }
   ],
   "source": [
    "#seed the randomizer\n",
    "np.random.seed(1)\n",
    "\n",
    "# define number of records to create\n",
    "record_cnt = 10000\n",
    "\n",
    "# Define data choice lists\n",
    "origin = ['Cuba', 'Dominican Republic', 'Nicaragua', 'Honduras', 'Ecuador', 'Mexico', 'Brazil', 'USA', 'Jamaica', 'Cameroon']\n",
    "destin = ['USA', 'Belgium', 'Germany', 'Malaysia', 'Netherlands']\n",
    "mode = ['Land', 'Sea', 'Air']\n",
    "inspect = [0, 1]\n",
    "\n",
    "# create the base dataframand populate with base random data\n",
    "df_base = pd.DataFrame({'origin': np.random.choice(origin, record_cnt, p=[0.25, 0.1, 0.2, 0.1, 0.1, 0.1, 0.05, 0.05, 0.025, 0.025]),\n",
    "                       'destin': np.random.choice(destin, record_cnt, p=[0.25, 0.2, 0.2, 0.2, 0.15]),\n",
    "                       'mode': np.random.choice(mode, record_cnt, p=[0.10, 0.55, 0.35]),\n",
    "                       'qty':  np.random.randint(low=100, high=150, size=record_cnt),\n",
    "                       'value': np.random.randint(low=2500, high=6000, size=record_cnt),\n",
    "                        'importer_id': np.random.randint(low=1000, high=1005, size=record_cnt),\n",
    "                        'exporter_id': np.random.randint(low=2000, high=2009, size=record_cnt),\n",
    "                       'inspected': np.random.choice(inspect, record_cnt, p=[0.91, 0.09])})\n",
    "df_base.head()"
   ]
  },
  {
   "cell_type": "markdown",
   "metadata": {},
   "source": [
    "### Explore Data"
   ]
  },
  {
   "cell_type": "code",
   "execution_count": 10,
   "metadata": {},
   "outputs": [
    {
     "data": {
      "image/png": "[encoded data removed]",
      "text/plain": [
       "<Figure size 1440x720 with 6 Axes>"
      ]
     },
     "metadata": {
      "needs_background": "light"
     },
     "output_type": "display_data"
    }
   ],
   "source": [
    "import seaborn as sns\n",
    "import matplotlib.pyplot as plt\n",
    "\n",
    "df_base.hist(bins=20, figsize=(20,10))\n",
    "plt.show()"
   ]
  },
  {
   "cell_type": "markdown",
   "metadata": {},
   "source": [
    "### This is a good distribution of data for qty and value"
   ]
  },
  {
   "cell_type": "code",
   "execution_count": 11,
   "metadata": {},
   "outputs": [
    {
     "data": {
      "image/png": "[encoded data removed]",
      "text/plain": [
       "<Figure size 1440x360 with 1 Axes>"
      ]
     },
     "metadata": {
      "needs_background": "light"
     },
     "output_type": "display_data"
    }
   ],
   "source": [
    "plt.figure(figsize=(20,5))\n",
    "sns.boxplot(x='origin', y='qty', data=df_base)\n",
    "plt.show()"
   ]
  },
  {
   "cell_type": "markdown",
   "metadata": {},
   "source": [
    "### Again good distribution of value accross origins. Now try the same for Destinations"
   ]
  },
  {
   "cell_type": "code",
   "execution_count": 12,
   "metadata": {},
   "outputs": [
    {
     "data": {
      "image/png": "[encoded data removed]",
      "text/plain": [
       "<Figure size 1440x360 with 1 Axes>"
      ]
     },
     "metadata": {
      "needs_background": "light"
     },
     "output_type": "display_data"
    }
   ],
   "source": [
    "plt.figure(figsize=(20,5))\n",
    "sns.boxplot(x='destin', y='qty', data=df_base)\n",
    "plt.show()"
   ]
  },
  {
   "cell_type": "markdown",
   "metadata": {},
   "source": [
    "### Looks good. Now lets add the rest of the features to our data set"
   ]
  },
  {
   "cell_type": "markdown",
   "metadata": {},
   "source": [
    "#### 1. Add weight column as value / 10"
   ]
  },
  {
   "cell_type": "code",
   "execution_count": 13,
   "metadata": {},
   "outputs": [
    {
     "data": {
      "text/html": [
       "<div>\n",
       "<style scoped>\n",
       "    .dataframe tbody tr th:only-of-type {\n",
       "        vertical-align: middle;\n",
       "    }\n",
       "\n",
       "    .dataframe tbody tr th {\n",
       "        vertical-align: top;\n",
       "    }\n",
       "\n",
       "    .dataframe thead th {\n",
       "        text-align: right;\n",
       "    }\n",
       "</style>\n",
       "<table border=\"1\" class=\"dataframe\">\n",
       "  <thead>\n",
       "    <tr style=\"text-align: right;\">\n",
       "      <th></th>\n",
       "      <th>origin</th>\n",
       "      <th>destin</th>\n",
       "      <th>mode</th>\n",
       "      <th>qty</th>\n",
       "      <th>value</th>\n",
       "      <th>importer_id</th>\n",
       "      <th>exporter_id</th>\n",
       "      <th>inspected</th>\n",
       "      <th>weight</th>\n",
       "    </tr>\n",
       "  </thead>\n",
       "  <tbody>\n",
       "    <tr>\n",
       "      <th>0</th>\n",
       "      <td>Nicaragua</td>\n",
       "      <td>Malaysia</td>\n",
       "      <td>Air</td>\n",
       "      <td>120</td>\n",
       "      <td>4200</td>\n",
       "      <td>1000</td>\n",
       "      <td>2003</td>\n",
       "      <td>0</td>\n",
       "      <td>420.0</td>\n",
       "    </tr>\n",
       "    <tr>\n",
       "      <th>1</th>\n",
       "      <td>Ecuador</td>\n",
       "      <td>Belgium</td>\n",
       "      <td>Sea</td>\n",
       "      <td>120</td>\n",
       "      <td>4893</td>\n",
       "      <td>1004</td>\n",
       "      <td>2000</td>\n",
       "      <td>0</td>\n",
       "      <td>489.3</td>\n",
       "    </tr>\n",
       "    <tr>\n",
       "      <th>2</th>\n",
       "      <td>Cuba</td>\n",
       "      <td>Malaysia</td>\n",
       "      <td>Air</td>\n",
       "      <td>135</td>\n",
       "      <td>4013</td>\n",
       "      <td>1004</td>\n",
       "      <td>2007</td>\n",
       "      <td>1</td>\n",
       "      <td>401.3</td>\n",
       "    </tr>\n",
       "    <tr>\n",
       "      <th>3</th>\n",
       "      <td>Dominican Republic</td>\n",
       "      <td>Malaysia</td>\n",
       "      <td>Air</td>\n",
       "      <td>147</td>\n",
       "      <td>4209</td>\n",
       "      <td>1004</td>\n",
       "      <td>2006</td>\n",
       "      <td>0</td>\n",
       "      <td>420.9</td>\n",
       "    </tr>\n",
       "    <tr>\n",
       "      <th>4</th>\n",
       "      <td>Cuba</td>\n",
       "      <td>USA</td>\n",
       "      <td>Air</td>\n",
       "      <td>113</td>\n",
       "      <td>4123</td>\n",
       "      <td>1001</td>\n",
       "      <td>2006</td>\n",
       "      <td>0</td>\n",
       "      <td>412.3</td>\n",
       "    </tr>\n",
       "  </tbody>\n",
       "</table>\n",
       "</div>"
      ],
      "text/plain": [
       "               origin    destin mode  qty  value  importer_id  exporter_id  \\\n",
       "0           Nicaragua  Malaysia  Air  120   4200         1000         2003   \n",
       "1             Ecuador   Belgium  Sea  120   4893         1004         2000   \n",
       "2                Cuba  Malaysia  Air  135   4013         1004         2007   \n",
       "3  Dominican Republic  Malaysia  Air  147   4209         1004         2006   \n",
       "4                Cuba       USA  Air  113   4123         1001         2006   \n",
       "\n",
       "   inspected  weight  \n",
       "0          0   420.0  \n",
       "1          0   489.3  \n",
       "2          1   401.3  \n",
       "3          0   420.9  \n",
       "4          0   412.3  "
      ]
     },
     "execution_count": 13,
     "metadata": {},
     "output_type": "execute_result"
    }
   ],
   "source": [
    "df_base['weight'] = (df_base['value'] / 10)\n",
    "df_base.head()"
   ]
  },
  {
   "cell_type": "markdown",
   "metadata": {},
   "source": [
    "#### Now we need to loop across the dataframe and add the days_in_transit, importer and exporter id columns"
   ]
  },
  {
   "cell_type": "code",
   "execution_count": 14,
   "metadata": {},
   "outputs": [
    {
     "data": {
      "text/html": [
       "<div>\n",
       "<style scoped>\n",
       "    .dataframe tbody tr th:only-of-type {\n",
       "        vertical-align: middle;\n",
       "    }\n",
       "\n",
       "    .dataframe tbody tr th {\n",
       "        vertical-align: top;\n",
       "    }\n",
       "\n",
       "    .dataframe thead th {\n",
       "        text-align: right;\n",
       "    }\n",
       "</style>\n",
       "<table border=\"1\" class=\"dataframe\">\n",
       "  <thead>\n",
       "    <tr style=\"text-align: right;\">\n",
       "      <th></th>\n",
       "      <th>origin</th>\n",
       "      <th>destin</th>\n",
       "      <th>mode</th>\n",
       "      <th>qty</th>\n",
       "      <th>value</th>\n",
       "      <th>importer_id</th>\n",
       "      <th>exporter_id</th>\n",
       "      <th>inspected</th>\n",
       "      <th>weight</th>\n",
       "      <th>days_in_transit</th>\n",
       "    </tr>\n",
       "  </thead>\n",
       "  <tbody>\n",
       "    <tr>\n",
       "      <th>0</th>\n",
       "      <td>Nicaragua</td>\n",
       "      <td>Malaysia</td>\n",
       "      <td>Air</td>\n",
       "      <td>120</td>\n",
       "      <td>4200</td>\n",
       "      <td>1000</td>\n",
       "      <td>2003</td>\n",
       "      <td>0</td>\n",
       "      <td>420.0</td>\n",
       "      <td>0</td>\n",
       "    </tr>\n",
       "    <tr>\n",
       "      <th>1</th>\n",
       "      <td>Ecuador</td>\n",
       "      <td>Belgium</td>\n",
       "      <td>Sea</td>\n",
       "      <td>120</td>\n",
       "      <td>4893</td>\n",
       "      <td>1004</td>\n",
       "      <td>2000</td>\n",
       "      <td>0</td>\n",
       "      <td>489.3</td>\n",
       "      <td>0</td>\n",
       "    </tr>\n",
       "    <tr>\n",
       "      <th>2</th>\n",
       "      <td>Cuba</td>\n",
       "      <td>Malaysia</td>\n",
       "      <td>Air</td>\n",
       "      <td>135</td>\n",
       "      <td>4013</td>\n",
       "      <td>1004</td>\n",
       "      <td>2007</td>\n",
       "      <td>1</td>\n",
       "      <td>401.3</td>\n",
       "      <td>0</td>\n",
       "    </tr>\n",
       "    <tr>\n",
       "      <th>3</th>\n",
       "      <td>Dominican Republic</td>\n",
       "      <td>Malaysia</td>\n",
       "      <td>Air</td>\n",
       "      <td>147</td>\n",
       "      <td>4209</td>\n",
       "      <td>1004</td>\n",
       "      <td>2006</td>\n",
       "      <td>0</td>\n",
       "      <td>420.9</td>\n",
       "      <td>0</td>\n",
       "    </tr>\n",
       "    <tr>\n",
       "      <th>4</th>\n",
       "      <td>Cuba</td>\n",
       "      <td>USA</td>\n",
       "      <td>Air</td>\n",
       "      <td>113</td>\n",
       "      <td>4123</td>\n",
       "      <td>1001</td>\n",
       "      <td>2006</td>\n",
       "      <td>0</td>\n",
       "      <td>412.3</td>\n",
       "      <td>0</td>\n",
       "    </tr>\n",
       "  </tbody>\n",
       "</table>\n",
       "</div>"
      ],
      "text/plain": [
       "               origin    destin mode  qty  value  importer_id  exporter_id  \\\n",
       "0           Nicaragua  Malaysia  Air  120   4200         1000         2003   \n",
       "1             Ecuador   Belgium  Sea  120   4893         1004         2000   \n",
       "2                Cuba  Malaysia  Air  135   4013         1004         2007   \n",
       "3  Dominican Republic  Malaysia  Air  147   4209         1004         2006   \n",
       "4                Cuba       USA  Air  113   4123         1001         2006   \n",
       "\n",
       "   inspected  weight  days_in_transit  \n",
       "0          0   420.0                0  \n",
       "1          0   489.3                0  \n",
       "2          1   401.3                0  \n",
       "3          0   420.9                0  \n",
       "4          0   412.3                0  "
      ]
     },
     "execution_count": 14,
     "metadata": {},
     "output_type": "execute_result"
    }
   ],
   "source": [
    "df_base['days_in_transit'] = 0 \n",
    "\n",
    "df_base.head()"
   ]
  },
  {
   "cell_type": "code",
   "execution_count": 15,
   "metadata": {},
   "outputs": [
    {
     "data": {
      "text/html": [
       "<div>\n",
       "<style scoped>\n",
       "    .dataframe tbody tr th:only-of-type {\n",
       "        vertical-align: middle;\n",
       "    }\n",
       "\n",
       "    .dataframe tbody tr th {\n",
       "        vertical-align: top;\n",
       "    }\n",
       "\n",
       "    .dataframe thead th {\n",
       "        text-align: right;\n",
       "    }\n",
       "</style>\n",
       "<table border=\"1\" class=\"dataframe\">\n",
       "  <thead>\n",
       "    <tr style=\"text-align: right;\">\n",
       "      <th></th>\n",
       "      <th>origin</th>\n",
       "      <th>destin</th>\n",
       "      <th>mode</th>\n",
       "      <th>qty</th>\n",
       "      <th>value</th>\n",
       "      <th>importer_id</th>\n",
       "      <th>exporter_id</th>\n",
       "      <th>inspected</th>\n",
       "      <th>weight</th>\n",
       "      <th>days_in_transit</th>\n",
       "    </tr>\n",
       "  </thead>\n",
       "  <tbody>\n",
       "    <tr>\n",
       "      <th>0</th>\n",
       "      <td>Nicaragua</td>\n",
       "      <td>Malaysia</td>\n",
       "      <td>Air</td>\n",
       "      <td>120</td>\n",
       "      <td>4200</td>\n",
       "      <td>1000</td>\n",
       "      <td>2003</td>\n",
       "      <td>0</td>\n",
       "      <td>420.0</td>\n",
       "      <td>1</td>\n",
       "    </tr>\n",
       "    <tr>\n",
       "      <th>1</th>\n",
       "      <td>Ecuador</td>\n",
       "      <td>Belgium</td>\n",
       "      <td>Sea</td>\n",
       "      <td>120</td>\n",
       "      <td>4893</td>\n",
       "      <td>1004</td>\n",
       "      <td>2000</td>\n",
       "      <td>0</td>\n",
       "      <td>489.3</td>\n",
       "      <td>8</td>\n",
       "    </tr>\n",
       "    <tr>\n",
       "      <th>2</th>\n",
       "      <td>Cuba</td>\n",
       "      <td>Malaysia</td>\n",
       "      <td>Air</td>\n",
       "      <td>135</td>\n",
       "      <td>4013</td>\n",
       "      <td>1004</td>\n",
       "      <td>2007</td>\n",
       "      <td>1</td>\n",
       "      <td>401.3</td>\n",
       "      <td>1</td>\n",
       "    </tr>\n",
       "    <tr>\n",
       "      <th>3</th>\n",
       "      <td>Dominican Republic</td>\n",
       "      <td>Malaysia</td>\n",
       "      <td>Air</td>\n",
       "      <td>147</td>\n",
       "      <td>4209</td>\n",
       "      <td>1004</td>\n",
       "      <td>2006</td>\n",
       "      <td>0</td>\n",
       "      <td>420.9</td>\n",
       "      <td>2</td>\n",
       "    </tr>\n",
       "    <tr>\n",
       "      <th>4</th>\n",
       "      <td>Cuba</td>\n",
       "      <td>USA</td>\n",
       "      <td>Air</td>\n",
       "      <td>113</td>\n",
       "      <td>4123</td>\n",
       "      <td>1001</td>\n",
       "      <td>2006</td>\n",
       "      <td>0</td>\n",
       "      <td>412.3</td>\n",
       "      <td>2</td>\n",
       "    </tr>\n",
       "  </tbody>\n",
       "</table>\n",
       "</div>"
      ],
      "text/plain": [
       "               origin    destin mode  qty  value  importer_id  exporter_id  \\\n",
       "0           Nicaragua  Malaysia  Air  120   4200         1000         2003   \n",
       "1             Ecuador   Belgium  Sea  120   4893         1004         2000   \n",
       "2                Cuba  Malaysia  Air  135   4013         1004         2007   \n",
       "3  Dominican Republic  Malaysia  Air  147   4209         1004         2006   \n",
       "4                Cuba       USA  Air  113   4123         1001         2006   \n",
       "\n",
       "   inspected  weight  days_in_transit  \n",
       "0          0   420.0                1  \n",
       "1          0   489.3                8  \n",
       "2          1   401.3                1  \n",
       "3          0   420.9                2  \n",
       "4          0   412.3                2  "
      ]
     },
     "execution_count": 15,
     "metadata": {},
     "output_type": "execute_result"
    }
   ],
   "source": [
    "# loop through datafram and change the days in transit based on mode {'Land':2-7, 'Sea':7-21, 'Air':1-3}\n",
    "for i, row in df_base.iterrows():\n",
    "    if df_base.loc[i, 'mode'] == 'Land': \n",
    "        df_base.at[i, 'days_in_transit'] = (np.random.randint(low=2, high=7))\n",
    "    elif df_base.loc[i,'mode'] == 'Sea': \n",
    "        df_base.at[i, 'days_in_transit'] = (np.random.randint(low=7, high=21))\n",
    "    else: \n",
    "        df_base.at[i, 'days_in_transit'] = (np.random.randint(low=1, high=3))\n",
    "df_base.head()\n",
    "    "
   ]
  },
  {
   "cell_type": "code",
   "execution_count": 17,
   "metadata": {},
   "outputs": [
    {
     "data": {
      "text/plain": [
       "(10000, 10)"
      ]
     },
     "execution_count": 17,
     "metadata": {},
     "output_type": "execute_result"
    }
   ],
   "source": [
    "df_base.shape"
   ]
  },
  {
   "cell_type": "markdown",
   "metadata": {},
   "source": [
    "## END"
   ]
  }
 ],
 "metadata": {
  "kernelspec": {
   "display_name": "Python 3",
   "language": "python",
   "name": "python3"
  },
  "language_info": {
   "codemirror_mode": {
    "name": "ipython",
    "version": 3
   },
   "file_extension": ".py",
   "mimetype": "text/x-python",
   "name": "python",
   "nbconvert_exporter": "python",
   "pygments_lexer": "ipython3",
   "version": "3.8.3"
  }
 },
 "nbformat": 4,
 "nbformat_minor": 4
}
